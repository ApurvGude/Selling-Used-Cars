{
 "cells": [
  {
   "cell_type": "markdown",
   "metadata": {},
   "source": [
    "# Making the model"
   ]
  },
  {
   "cell_type": "markdown",
   "metadata": {},
   "source": [
    "### Loading the processed data"
   ]
  },
  {
   "cell_type": "code",
   "execution_count": 2,
   "metadata": {},
   "outputs": [],
   "source": [
    "#Importing required libraries\n",
    "import pandas as pd\n",
    "import numpy as np\n",
    "import matplotlib.pyplot as plt\n",
    "import seaborn as sns\n",
    "sns.set_style('whitegrid')\n",
    "pd.set_option('display.max_columns', None) \n",
    "import plotly.express as px\n",
    "import plotly.graph_objects as go\n",
    "import plotly.io as pio\n",
    "pio.renderers.default = \"svg\"\n",
    "from sklearn.ensemble import RandomForestRegressor\n",
    "from sklearn.metrics import r2_score\n",
    "import pickle \n",
    "from sklearn.model_selection import train_test_split\n",
    "#Loading the data\n",
    "x = pd.read_csv('data/processed/processed_x.csv')\n",
    "y = pd.read_csv('data/processed/processed_y.csv')\n",
    "data= pd.read_csv('data/processed/input_data.csv')\n",
    "x = x.drop(['Unnamed: 0'],axis=1)\n",
    "y = y.drop(['Unnamed: 0'],axis=1).values\n",
    "data = data.drop(['Unnamed: 0'],axis=1)"
   ]
  },
  {
   "cell_type": "markdown",
   "metadata": {},
   "source": [
    "### Separating data into training and validation sets"
   ]
  },
  {
   "cell_type": "code",
   "execution_count": 3,
   "metadata": {},
   "outputs": [],
   "source": [
    "x_train,x_test,y_train,y_test = train_test_split(x,y,test_size=0.2,random_state=42)"
   ]
  },
  {
   "cell_type": "code",
   "execution_count": null,
   "metadata": {},
   "outputs": [],
   "source": [
    "# Loading the CountTransformer from previous notebook\n",
    "with open('ct_model.pkl','rb') as file:\n",
    "    ct = pickle.load(file)"
   ]
  },
  {
   "cell_type": "markdown",
   "metadata": {},
   "source": [
    "# Making a prediction model for price of used car"
   ]
  },
  {
   "cell_type": "markdown",
   "metadata": {},
   "source": [
    "### Choosing metric of accuracy for model\n",
    "\n",
    "For this model ,we will choose ${R}^2$ score from sklearn library for estimating accuracy.\n",
    "This metric will input a value from 0 to 1 ,where 1 implies the regression model is perfect and 0 implies it is totally random."
   ]
  },
  {
   "cell_type": "markdown",
   "metadata": {},
   "source": [
    "### Choosing regression model \n",
    "\n",
    "* For this regression problem ,we chose RandomForestRegressor as our model. \n",
    "* After testing different models, we found that ensemble models worked best on the model. \n",
    "* Based on the training time and accuracy ,we landed on RandomForest as our final model"
   ]
  },
  {
   "cell_type": "code",
   "execution_count": 118,
   "metadata": {},
   "outputs": [
    {
     "name": "stdout",
     "output_type": "stream",
     "text": [
      "Validation Score: 0.9554006816519188\n",
      "Training Score: 0.9927629708136322\n"
     ]
    }
   ],
   "source": [
    "model = RandomForestRegressor(n_jobs=-1,random_state=42)\n",
    "model.fit(x_train,y_train.ravel())\n",
    "print('Validation Score: {}'.format(r2_score(y_test,model.predict(x_test))))\n",
    "print('Training Score: {}'.format(r2_score(y_train,model.predict(x_train))))"
   ]
  },
  {
   "cell_type": "code",
   "execution_count": 101,
   "metadata": {},
   "outputs": [
    {
     "data": {
      "text/plain": [
       "<matplotlib.axes._subplots.AxesSubplot at 0x22720032188>"
      ]
     },
     "execution_count": 101,
     "metadata": {},
     "output_type": "execute_result"
    },
    {
     "data": {
      "image/png": "[encoded data removed]",
      "text/plain": [
       "<Figure size 720x576 with 1 Axes>"
      ]
     },
     "metadata": {},
     "output_type": "display_data"
    }
   ],
   "source": [
    "a = pd.DataFrame(model.feature_importances_,index = x.columns,columns = ['Feature Importance']).sort_values('Feature Importance',ascending = True)\n",
    "fig,ax = plt.subplots(figsize =(10,8))\n",
    "a.plot(kind = 'barh',ax=ax,title= 'Feature Importances')\n"
   ]
  },
  {
   "cell_type": "markdown",
   "metadata": {},
   "source": [
    "# Making a model for determining when to sell a used car and at what mileage will it give the most profit\n",
    "\n",
    "* Now that we have made a prediction model for selling price with an R2 score of 0.95, we can make a prediction algorithm for determining at what age a costumer should sell his used car and at what mileage will that yield the most profit\n",
    "\n",
    "* The costumer will have to input the Company, model, transmission, fuelType, mpg and engineSize  of the car he bought and when he bought it and what mileage range he can afford to put on the car by the time of selling and the algorithm will predict when he can sell the car and at what mileage to yield the most profits"
   ]
  },
  {
   "cell_type": "code",
   "execution_count": 119,
   "metadata": {},
   "outputs": [],
   "source": [
    "def predict_sell(df,year_start,year_end,mileage_start,mileage_end,mileage_steps):\n",
    "    cols = ['model', 'transmission', 'mileage', 'fuelType', 'mpg', 'engineSize',\n",
    "       'Company', 'Age']\n",
    "    size = (year_end-year_start)*(mileage_end-mileage_start)/(mileage_steps)\n",
    "    train = pd.DataFrame(np.zeros((int(size),8)),columns =cols)\n",
    "    for i in train.index:\n",
    "        df.index = [i]\n",
    "        train.loc[i,['model','transmission','fuelType','mpg','engineSize','Company']] = df.loc[i,:]\n",
    "    b = data.loc[data['model']==np.array(df['model'])[0],'start_year'].values[0]\n",
    "    k=0\n",
    "    for i in range(year_start-b,year_end-b):\n",
    "        for j in np.arange(mileage_start,mileage_end,mileage_steps):\n",
    "            train.loc[k,'Age']=i\n",
    "            train.loc[k,'mileage']=j\n",
    "            k+=1\n",
    "    t  = pd.DataFrame(ct.transform(train))\n",
    "    t = t.rename(columns = {0:'model',1:'transmission',2:'fuelType',3:'Company',4:'mileage',5:'mpg',6:'engineSize',7:'Age'})\n",
    "    result = model.predict(t)\n",
    "    r=  result.argsort()[-10:][::-1]\n",
    "    for i in r:\n",
    "        print('You can sell the car at {}$ in the year {} with mileage {}'.format(round(result[i],2),(train.loc[i,:]['Age']+b),train.loc[i,:]['mileage']))\n"
   ]
  },
  {
   "cell_type": "markdown",
   "metadata": {},
   "source": [
    "### Example Prediction\n",
    "\n",
    "Say I have a Volkswagen Polo car which I bought a while back. It is the year 2017 and I am ready to sell it anytime in the next 5 years.\n",
    "\n",
    "The current mileage of the car is 13000 and I assume I will keep the mileage under 15000 till I sell it as I am not using it too much\n",
    "\n",
    "The car has automatic transmission, it runs on Petrol ,its mpg is 60 and engine size is 1.6."
   ]
  },
  {
   "cell_type": "code",
   "execution_count": 120,
   "metadata": {},
   "outputs": [
    {
     "name": "stdout",
     "output_type": "stream",
     "text": [
      "You can sell the car at 14441.03$ in the year 2021.0 with mileage 14100.0\n",
      "You can sell the car at 14439.91$ in the year 2018.0 with mileage 14900.0\n",
      "You can sell the car at 14427.36$ in the year 2021.0 with mileage 14800.0\n",
      "You can sell the car at 14418.8$ in the year 2021.0 with mileage 13700.0\n",
      "You can sell the car at 14417.27$ in the year 2021.0 with mileage 13500.0\n",
      "You can sell the car at 14416.24$ in the year 2017.0 with mileage 14900.0\n",
      "You can sell the car at 14413.37$ in the year 2021.0 with mileage 14900.0\n",
      "You can sell the car at 14405.41$ in the year 2021.0 with mileage 13600.0\n",
      "You can sell the car at 14403.75$ in the year 2021.0 with mileage 14500.0\n",
      "You can sell the car at 14400.18$ in the year 2021.0 with mileage 14600.0\n"
     ]
    }
   ],
   "source": [
    "car  = pd.DataFrame([' Polo','Manual','Petrol',60,1.6,'vw'],\n",
    "                    index = ['model', 'transmission', 'fuelType', 'mpg', 'engineSize', 'Company']).T\n",
    "\n",
    "predict_sell(car,year_start= 2017,year_end=2022,\n",
    "             mileage_start= 13000,mileage_end = 15000,mileage_steps = 100)"
   ]
  }
 ],
 "metadata": {
  "kernelspec": {
   "display_name": "Python 3",
   "language": "python",
   "name": "python3"
  },
  "language_info": {
   "codemirror_mode": {
    "name": "ipython",
    "version": 3
   },
   "file_extension": ".py",
   "mimetype": "text/x-python",
   "name": "python",
   "nbconvert_exporter": "python",
   "pygments_lexer": "ipython3",
   "version": "3.7.6"
  }
 },
 "nbformat": 4,
 "nbformat_minor": 4
}
